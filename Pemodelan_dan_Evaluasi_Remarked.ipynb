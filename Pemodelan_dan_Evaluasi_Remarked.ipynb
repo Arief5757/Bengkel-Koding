{
 "cells": [
  {
   "cell_type": "code",
   "execution_count": null,
   "id": "d2fddbef",
   "metadata": {},
   "outputs": [],
   "source": [
    "import pandas as pd  # Mengimpor library pandas untuk manipulasi dan analisis data\n",
    "import pandas as pd  # Mengimpor library pandas untuk manipulasi dan analisis data\n",
    "import matplotlib.pyplot as plt  # Mengimpor matplotlib.pyplot untuk membuat grafik visualisasi\n",
    "from sklearn.model_selection import train_test_split  # Mengimpor fungsi train_test_split untuk membagi data menjadi data latih dan data uji\n",
    "from sklearn.preprocessing import LabelEncoder, StandardScaler  # Mengimpor LabelEncoder untuk encode label kategorikal, dan StandardScaler untuk normalisasi fitur numerik\n",
    "from sklearn.metrics import classification_report, accuracy_score  # Mengimpor metrik evaluasi dari scikit-learn\n",
    "from sklearn.ensemble import RandomForestClassifier\n",
    "from sklearn.neighbors import KNeighborsClassifier\n",
    "from sklearn.linear_model import LogisticRegression\n",
    "\n",
    "\n",
    "\n",
    "# Load the dataset\n",
    "file_path = \"ObesityDataSet_preprocessed12.csv\"\n",
    "df = pd.read_csv(file_path)  # Membaca dataset dari file CSV ke dalam DataFrame"
   ]
  },
  {
   "cell_type": "code",
   "execution_count": null,
   "id": "353f6aff",
   "metadata": {},
   "outputs": [],
   "source": [
    "# Tampilkan beberapa baris pertama dan informasi umum\n",
    "info = df.info()"
   ]
  },
  {
   "cell_type": "code",
   "execution_count": null,
   "id": "fa794bce",
   "metadata": {},
   "outputs": [],
   "source": [
    "\n",
    "# Pilih fitur yang diinginkan\n",
    "selected_features = ['Gender', 'Weight', 'Height', 'Age']\n",
    "X = df[selected_features]\n",
    "y = df['NObeyesdad']\n",
    "\n",
    "# Encode fitur kategorikal\n",
    "for col in X.select_dtypes(include='object').columns:\n",
    "    X[col] = LabelEncoder().fit_transform(X[col])\n",
    "\n",
    "# Encode target jika masih bertipe objek\n",
    "if y.dtype == 'object':\n",
    "    y = LabelEncoder().fit_transform(y)\n"
   ]
  },
  {
   "cell_type": "code",
   "execution_count": null,
   "id": "362bee14",
   "metadata": {},
   "outputs": [],
   "source": [
    "# Split data menjadi data latih dan uji\n",
    "X_train, X_test, y_train, y_test = train_test_split(X, y, test_size=0.2, random_state=42)  # Mengimpor fungsi train_test_split untuk membagi data menjadi data latih dan data uji"
   ]
  },
  {
   "cell_type": "code",
   "execution_count": null,
   "id": "9f4985e1",
   "metadata": {},
   "outputs": [],
   "source": [
    "# Standarisasi fitur numerik\n",
    "scaler = StandardScaler()\n",
    "X_train = scaler.fit_transform(X_train)\n",
    "X_test = scaler.transform(X_test)"
   ]
  },
  {
   "cell_type": "code",
   "execution_count": null,
   "id": "45ed4a25",
   "metadata": {},
   "outputs": [],
   "source": [
    "# Model 1: Random Forest\n",
    "rf = RandomForestClassifier(random_state=42)\n",
    "rf.fit(X_train, y_train)  # Melatih model dengan data latih\n",
    "y_pred_rf = rf.predict(X_test)  # Menggunakan model untuk memprediksi label pada data uji"
   ]
  },
  {
   "cell_type": "code",
   "execution_count": null,
   "id": "2c98dc41",
   "metadata": {},
   "outputs": [],
   "source": [
    "# Model 2: K-Nearest Neighbors\n",
    "knn = KNeighborsClassifier()\n",
    "knn.fit(X_train, y_train)  # Melatih model dengan data latih\n",
    "y_pred_knn = knn.predict(X_test)  # Menggunakan model untuk memprediksi label pada data uji\n"
   ]
  },
  {
   "cell_type": "code",
   "execution_count": null,
   "id": "b00a03e4",
   "metadata": {},
   "outputs": [],
   "source": [
    "# Model 3: Logistic Regression\n",
    "lr = LogisticRegression(max_iter=1000, random_state=42)\n",
    "lr.fit(X_train, y_train)  # Melatih model dengan data latih\n",
    "y_pred_lr = lr.predict(X_test)  # Menggunakan model untuk memprediksi label pada data uji\n"
   ]
  },
  {
   "cell_type": "code",
   "execution_count": null,
   "id": "1a5cb8ab",
   "metadata": {},
   "outputs": [],
   "source": [
    "# Evaluasi\n",
    "print(\"=== Random Forest ===\")  # Menampilkan output ke layar\n",
    "print(\"Accuracy:\", accuracy_score(y_test, y_pred_rf))  # Mengimpor accuracy_score untuk menghitung akurasi model\n",
    "print(classification_report(y_test, y_pred_rf))  # Mengimpor classification_report untuk menampilkan laporan klasifikasi\n",
    "\n",
    "print(\"\\n=== K-Nearest Neighbors ===\")  # Menampilkan output ke layar\n",
    "print(\"Accuracy:\", accuracy_score(y_test, y_pred_knn))  # Mengimpor accuracy_score untuk menghitung akurasi model\n",
    "print(classification_report(y_test, y_pred_knn))  # Mengimpor classification_report untuk menampilkan laporan klasifikasi\n",
    "\n",
    "print(\"\\n=== Logistic Regression ===\")  # Menampilkan output ke layar\n",
    "print(\"Accuracy:\", accuracy_score(y_test, y_pred_lr))  # Mengimpor accuracy_score untuk menghitung akurasi model\n",
    "print(classification_report(y_test, y_pred_lr))  # Mengimpor classification_report untuk menampilkan laporan klasifikasi"
   ]
  },
  {
   "cell_type": "code",
   "execution_count": null,
   "id": "3970300c",
   "metadata": {},
   "outputs": [],
   "source": [
    "# Akurasi dari ketiga model\n",
    "acc_rf = accuracy_score(y_test, y_pred_rf)  # Mengimpor accuracy_score untuk menghitung akurasi model\n",
    "acc_knn = accuracy_score(y_test, y_pred_knn)  # Mengimpor accuracy_score untuk menghitung akurasi model\n",
    "acc_lr = accuracy_score(y_test, y_pred_lr)  # Mengimpor accuracy_score untuk menghitung akurasi model"
   ]
  },
  {
   "cell_type": "code",
   "execution_count": null,
   "id": "e609c477",
   "metadata": {},
   "outputs": [],
   "source": [
    "\n",
    "algorithms = ['Random Forest', 'KNN', 'Logistic Regression']\n",
    "accuracies = [acc_rf, acc_knn, acc_lr]"
   ]
  },
  {
   "cell_type": "code",
   "execution_count": null,
   "id": "6ff9c343",
   "metadata": {},
   "outputs": [],
   "source": [
    "algorithms = ['Random Forest', 'KNN', 'Logistic Regression']  # Membuat list nama algoritma yang digunakan\n",
    "accuracies = [acc_rf, acc_knn, acc_lr]  # Membuat list akurasi dari masing-masing model (Random Forest, KNN, Logistic Regression)"
   ]
  },
  {
   "cell_type": "code",
   "execution_count": null,
   "id": "25181cbb",
   "metadata": {},
   "outputs": [],
   "source": [
    "plt.figure(figsize=(8,5))\n",
    "bars = plt.bar(algorithms, accuracies, color=['skyblue', 'salmon', 'lightgreen'])\n",
    "plt.ylim(0, 1)\n",
    "plt.ylabel('Akurasi')\n",
    "plt.title('Perbandingan Akurasi Model')\n",
    "plt.bar_label(bars, fmt='%.2f')\n",
    "plt.show()"
   ]
  },
  {
   "cell_type": "markdown",
   "id": "bd83d7ac",
   "metadata": {},
   "source": [
    "Kesimpulan dari Hasil Pemodelan\n",
    "Berdasarkan hasil evaluasi dari tiga model klasifikasi (Random Forest, K-Nearest Neighbors, dan Logistic Regression), berikut adalah ringkasannya:\n",
    "\n",
    "1. Random Forest\n",
    "Akurasi: 96%\n",
    "2. Logistic Regression\n",
    "Akurasi: 85%\n",
    "3. K-Nearest Neighbors\n",
    "Akurasi: 90%\n",
    "\n",
    "Kesimpulan Akhir\n",
    "Model Random Forest merupakan model terbaik untuk dataset ini, dengan akurasi dan f1-score yang tinggi serta distribusi performa yang merata di semua kelas. Model ini sangat cocok digunakan dalam kasus klasifikasi multi-kelas obesitas seperti yang terlihat pada target NObeyesdad."
   ]
  },
  {
   "cell_type": "code",
   "execution_count": null,
   "id": "4a800cdd",
   "metadata": {},
   "outputs": [],
   "source": [
    "from sklearn.model_selection import GridSearchCV\n",
    "\n",
    "# Contoh optimasi untuk RandomForestClassifier\n",
    "param_grid_rf = {\n",
    "    'n_estimators': [50, 100, 200],\n",
    "    'max_depth': [None, 10, 20],\n",
    "    'min_samples_split': [2, 5, 10]\n",
    "}\n",
    "grid_rf = GridSearchCV(RandomForestClassifier(random_state=42), param_grid_rf, cv=3, n_jobs=-1, scoring='accuracy')\n",
    "grid_rf.fit(X_train, y_train)  # Melatih model dengan data latih"
   ]
  },
  {
   "cell_type": "code",
   "execution_count": null,
   "id": "834478be",
   "metadata": {},
   "outputs": [],
   "source": [
    "\n",
    "print(\"Best parameters (Random Forest):\", grid_rf.best_params_)  # Menampilkan output ke layar\n",
    "print(\"Best accuracy (Random Forest):\", grid_rf.best_score_)  # Menampilkan output ke layar"
   ]
  },
  {
   "cell_type": "code",
   "execution_count": null,
   "id": "55fdbe66",
   "metadata": {},
   "outputs": [],
   "source": [
    "# Contoh optimasi untuk KNeighborsClassifier\n",
    "param_grid_knn = {\n",
    "    'n_neighbors': [3, 5, 7, 9],\n",
    "    'weights': ['uniform', 'distance'],\n",
    "    'p': [1, 2]\n",
    "}\n",
    "grid_knn = GridSearchCV(KNeighborsClassifier(), param_grid_knn, cv=3, n_jobs=-1, scoring='accuracy')\n",
    "grid_knn.fit(X_train, y_train)  # Melatih model dengan data latih"
   ]
  },
  {
   "cell_type": "code",
   "execution_count": null,
   "id": "50b39305",
   "metadata": {},
   "outputs": [],
   "source": [
    "print(\"Best parameters (KNN):\", grid_knn.best_params_)  # Menampilkan output ke layar\n",
    "print(\"Best accuracy (KNN):\", grid_knn.best_score_)  # Menampilkan output ke layar"
   ]
  },
  {
   "cell_type": "code",
   "execution_count": null,
   "id": "2af9b83e",
   "metadata": {},
   "outputs": [],
   "source": [
    "# Latih ulang Random Forest dengan parameter terbaik dari GridSearchCV\n",
    "best_rf = RandomForestClassifier(\n",
    "    n_estimators=grid_rf.best_params_['n_estimators'],\n",
    "    max_depth=grid_rf.best_params_['max_depth'],\n",
    "    min_samples_split=grid_rf.best_params_['min_samples_split'],\n",
    "    random_state=42\n",
    ")\n",
    "best_rf.fit(X_train, y_train)  # Melatih model dengan data latih\n",
    "y_pred_best_rf = best_rf.predict(X_test)  # Menggunakan model untuk memprediksi label pada data uji"
   ]
  },
  {
   "cell_type": "code",
   "execution_count": null,
   "id": "fd18ec10",
   "metadata": {},
   "outputs": [],
   "source": [
    "print(\"=== Random Forest (Best Params) ===\")  # Menampilkan output ke layar\n",
    "print(\"Accuracy:\", accuracy_score(y_test, y_pred_best_rf))  # Mengimpor accuracy_score untuk menghitung akurasi model\n",
    "print(classification_report(y_test, y_pred_best_rf))  # Mengimpor classification_report untuk menampilkan laporan klasifikasi\n"
   ]
  },
  {
   "cell_type": "code",
   "execution_count": null,
   "id": "fbd964e9",
   "metadata": {},
   "outputs": [],
   "source": [
    "# Latih ulang KNN dengan parameter terbaik dari GridSearchCV\n",
    "best_knn = KNeighborsClassifier(\n",
    "    n_neighbors=grid_knn.best_params_['n_neighbors'],\n",
    "    weights=grid_knn.best_params_['weights'],\n",
    "    p=grid_knn.best_params_['p']\n",
    ")\n",
    "best_knn.fit(X_train, y_train)  # Melatih model dengan data latih\n",
    "y_pred_best_knn = best_knn.predict(X_test)  # Menggunakan model untuk memprediksi label pada data uji"
   ]
  },
  {
   "cell_type": "code",
   "execution_count": null,
   "id": "f4631b3f",
   "metadata": {},
   "outputs": [],
   "source": [
    "print(\"\\n=== KNN (Best Params) ===\")  # Menampilkan output ke layar\n",
    "print(\"Accuracy:\", accuracy_score(y_test, y_pred_best_knn))  # Mengimpor accuracy_score untuk menghitung akurasi model\n",
    "print(classification_report(y_test, y_pred_best_knn))  # Mengimpor classification_report untuk menampilkan laporan klasifikasi"
   ]
  },
  {
   "cell_type": "code",
   "execution_count": null,
   "id": "005d6a90",
   "metadata": {},
   "outputs": [],
   "source": [
    "# Optimasi Logistic Regression dengan GridSearchCV\n",
    "param_grid_lr = {\n",
    "    'C': [0.01, 0.1, 1, 10, 100],\n",
    "    'penalty': ['l2'],\n",
    "    'solver': ['lbfgs', 'saga'],\n",
    "    'max_iter': [1000]\n",
    "}\n",
    "grid_lr = GridSearchCV(LogisticRegression(random_state=42), param_grid_lr, cv=3, n_jobs=-1, scoring='accuracy')\n",
    "grid_lr.fit(X_train, y_train)  # Melatih model dengan data latih\n"
   ]
  },
  {
   "cell_type": "code",
   "execution_count": null,
   "id": "4077c4a6",
   "metadata": {},
   "outputs": [],
   "source": [
    "# Latih ulang dengan parameter terbaik\n",
    "best_lr = LogisticRegression(\n",
    "    C=grid_lr.best_params_['C'],\n",
    "    penalty=grid_lr.best_params_['penalty'],\n",
    "    solver=grid_lr.best_params_['solver'],\n",
    "    max_iter=grid_lr.best_params_['max_iter'],\n",
    "    random_state=42\n",
    ")\n",
    "best_lr.fit(X_train, y_train)  # Melatih model dengan data latih\n",
    "y_pred_best_lr = best_lr.predict(X_test)  # Menggunakan model untuk memprediksi label pada data uji"
   ]
  },
  {
   "cell_type": "code",
   "execution_count": null,
   "id": "46553728",
   "metadata": {},
   "outputs": [],
   "source": [
    "print(\"\\n=== KNN (Best Params) ===\")  # Menampilkan output ke layar\n",
    "print(\"Accuracy:\", accuracy_score(y_test, y_pred_best_lr))  # Mengimpor accuracy_score untuk menghitung akurasi model\n",
    "print(classification_report(y_test, y_pred_best_lr))  # Mengimpor classification_report untuk menampilkan laporan klasifikasi"
   ]
  },
  {
   "cell_type": "code",
   "execution_count": null,
   "id": "54c57171",
   "metadata": {},
   "outputs": [],
   "source": [
    "# Akurasi sebelum optimasi\n",
    "acc_before = [acc_rf, acc_knn, acc_lr]\n",
    "\n",
    "# Akurasi sesudah optimasi (Random Forest & KNN)\n",
    "acc_after = [\n",
    "    accuracy_score(y_test, y_pred_best_rf),  # Mengimpor accuracy_score untuk menghitung akurasi model\n",
    "    accuracy_score(y_test, y_pred_best_knn),  # Mengimpor accuracy_score untuk menghitung akurasi model\n",
    "    accuracy_score(y_test, y_pred_best_lr),  # Mengimpor accuracy_score untuk menghitung akurasi model\n",
    "]\n",
    "\n",
    "labels = ['Random Forest', 'KNN', 'Logistic Regression']\n",
    "x = range(len(labels))"
   ]
  },
  {
   "cell_type": "code",
   "execution_count": null,
   "id": "2da70aa9",
   "metadata": {},
   "outputs": [],
   "source": [
    "plt.figure(figsize=(9,5))\n",
    "bar1 = plt.bar([i - 0.2 for i in x], acc_before, width=0.4, label='Sebelum Optimasi', color='lightgray')\n",
    "bar2 = plt.bar([i + 0.2 for i in x], acc_after, width=0.4, label='Sesudah Optimasi', color='dodgerblue')\n",
    "plt.xticks(x, labels)\n",
    "plt.ylim(0, 1)\n",
    "plt.ylabel('Akurasi')\n",
    "plt.title('Perbandingan Akurasi Model Sebelum dan Sesudah Optimasi')\n",
    "plt.bar_label(bar1, fmt='%.2f')\n",
    "plt.bar_label(bar2, fmt='%.2f')\n",
    "plt.legend()\n",
    "plt.show()"
   ]
  },
  {
   "cell_type": "markdown",
   "id": "15ef24fd",
   "metadata": {},
   "source": [
    "🔍 Sebelum Optimasi (Baseline Model)\n",
    "Model digunakan langsung dengan parameter default (tanpa tuning):\n",
    "\n",
    "Model\tAkurasi\tCatatan\n",
    "Random Forest\t~93.56%\tPerforma terbaik, stabil di semua kelas\n",
    "K-Nearest Neighbors\t~77.33%\tAkurasi rendah, kurang baik menangani kelas minoritas\n",
    "Logistic Regression\t~79.47%\tHasil cukup baik, namun tidak optimal terutama pada kelas tidak seimbang\n",
    "\n",
    "\n",
    "Sesudah Optimasi (Dengan GridSearchCV)\n",
    "Model dilakukan tuning hyperparameter menggunakan GridSearchCV untuk mencari kombinasi parameter terbaik:\n",
    "\n",
    "Model\tAkurasi\tPerubahan Utama\n",
    "Random Forest (Tuned)\t~95.44%\t Naik signifikan. Tuning seperti n_estimators, max_depth, dan criterion meningkatkan akurasi dan generalisasi.\n",
    "KNN (Tuned)\t~83.03% Meningkat setelah pemilihan jumlah tetangga k, dan metrik jarak weights.\n",
    "Logistic Regression (Tuned)\t~81.84% Naik sedikit, tapi masih kalah dari Random Forest. Parameter seperti C dan penalty berpengaruh.\n",
    "\n",
    "\n",
    "Kesimpulan Umum\n",
    "GridSearchCV terbukti meningkatkan performa model secara signifikan, terutama pada Random Forest dan KNN.\n",
    "Random Forest tetap menjadi model terbaik setelah tuning, dan sangat disarankan untuk digunakan dalam produksi.\n",
    "KNN dan Logistic Regression menunjukkan peningkatan, namun masih memiliki keterbatasan pada penanganan kelas minoritas dan akurasi umum.\n",
    "Optimasi hyperparameter penting dilakukan untuk mendapatkan performa model yang maksimal, terutama dalam kasus multi-kelas seperti ini."
   ]
  }
 ],
 "metadata": {
  "kernelspec": {
   "display_name": "Python 3",
   "language": "python",
   "name": "python3"
  },
  "language_info": {
   "codemirror_mode": {
    "name": "ipython",
    "version": 3
   },
   "file_extension": ".py",
   "mimetype": "text/x-python",
   "name": "python",
   "nbconvert_exporter": "python",
   "pygments_lexer": "ipython3",
   "version": "3.11.4"
  }
 },
 "nbformat": 4,
 "nbformat_minor": 5
}
